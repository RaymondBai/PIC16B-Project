{
 "cells": [
  {
   "cell_type": "code",
   "execution_count": 17,
   "id": "dce6b5ed",
   "metadata": {},
   "outputs": [],
   "source": [
    "import pandas as pd\n",
    "import numpy as np\n",
    "from sklearn import preprocessing"
   ]
  },
  {
   "cell_type": "code",
   "execution_count": 18,
   "id": "9f09bb6d",
   "metadata": {},
   "outputs": [],
   "source": [
    "data = pd.read_csv(\"ocr_opinions.csv\")"
   ]
  },
  {
   "cell_type": "code",
   "execution_count": 19,
   "id": "9f911727",
   "metadata": {},
   "outputs": [],
   "source": [
    "data = data.drop(['Unnamed: 0'], axis = 1)"
   ]
  },
  {
   "cell_type": "code",
   "execution_count": 20,
   "id": "df6b70e3",
   "metadata": {},
   "outputs": [
    {
     "data": {
      "text/html": [
       "<div>\n",
       "<style scoped>\n",
       "    .dataframe tbody tr th:only-of-type {\n",
       "        vertical-align: middle;\n",
       "    }\n",
       "\n",
       "    .dataframe tbody tr th {\n",
       "        vertical-align: top;\n",
       "    }\n",
       "\n",
       "    .dataframe thead th {\n",
       "        text-align: right;\n",
       "    }\n",
       "</style>\n",
       "<table border=\"1\" class=\"dataframe\">\n",
       "  <thead>\n",
       "    <tr style=\"text-align: right;\">\n",
       "      <th></th>\n",
       "      <th>Author</th>\n",
       "      <th>Type</th>\n",
       "      <th>Text</th>\n",
       "    </tr>\n",
       "  </thead>\n",
       "  <tbody>\n",
       "    <tr>\n",
       "      <th>0</th>\n",
       "      <td>KAGAN</td>\n",
       "      <td>Opinion</td>\n",
       "      <td>When a party who has agreed to arbitrate a dis...</td>\n",
       "    </tr>\n",
       "    <tr>\n",
       "      <th>1</th>\n",
       "      <td>BREYER</td>\n",
       "      <td>Opinion</td>\n",
       "      <td>When the government encourages diverse express...</td>\n",
       "    </tr>\n",
       "    <tr>\n",
       "      <th>2</th>\n",
       "      <td>KAVANAUGH</td>\n",
       "      <td>Concurrence</td>\n",
       "      <td>This dispute arose only because of a governmen...</td>\n",
       "    </tr>\n",
       "    <tr>\n",
       "      <th>3</th>\n",
       "      <td>ALITO</td>\n",
       "      <td>Concurrence</td>\n",
       "      <td>I agree with the Court’s conclusion that Bosto...</td>\n",
       "    </tr>\n",
       "    <tr>\n",
       "      <th>4</th>\n",
       "      <td>GORSUCH</td>\n",
       "      <td>Concurrence</td>\n",
       "      <td>The real problem in this case doesn’t stem fro...</td>\n",
       "    </tr>\n",
       "    <tr>\n",
       "      <th>...</th>\n",
       "      <td>...</td>\n",
       "      <td>...</td>\n",
       "      <td>...</td>\n",
       "    </tr>\n",
       "    <tr>\n",
       "      <th>347</th>\n",
       "      <td>KAVANAUGH</td>\n",
       "      <td>Concurrence</td>\n",
       "      <td>I join the Court’s opinion in full. In Part II...</td>\n",
       "    </tr>\n",
       "    <tr>\n",
       "      <th>348</th>\n",
       "      <td>SOTOMAYOR</td>\n",
       "      <td>Opinion</td>\n",
       "      <td>In Kokesh v. SEC, 581 U.S. ___ (2017), this Co...</td>\n",
       "    </tr>\n",
       "    <tr>\n",
       "      <th>349</th>\n",
       "      <td>THOMAS</td>\n",
       "      <td>Dissent</td>\n",
       "      <td>The Court correctly declines to affirm the Nin...</td>\n",
       "    </tr>\n",
       "    <tr>\n",
       "      <th>350</th>\n",
       "      <td>KAVANAUGH</td>\n",
       "      <td>Opinion</td>\n",
       "      <td>Under the immigration laws, a noncitizen who i...</td>\n",
       "    </tr>\n",
       "    <tr>\n",
       "      <th>351</th>\n",
       "      <td>SOTOMAYOR</td>\n",
       "      <td>Dissent</td>\n",
       "      <td>The stop-time rule ends a noncitizen’s period ...</td>\n",
       "    </tr>\n",
       "  </tbody>\n",
       "</table>\n",
       "<p>352 rows × 3 columns</p>\n",
       "</div>"
      ],
      "text/plain": [
       "        Author         Type                                               Text\n",
       "0        KAGAN      Opinion  When a party who has agreed to arbitrate a dis...\n",
       "1       BREYER      Opinion  When the government encourages diverse express...\n",
       "2    KAVANAUGH  Concurrence  This dispute arose only because of a governmen...\n",
       "3        ALITO  Concurrence  I agree with the Court’s conclusion that Bosto...\n",
       "4      GORSUCH  Concurrence  The real problem in this case doesn’t stem fro...\n",
       "..         ...          ...                                                ...\n",
       "347  KAVANAUGH  Concurrence  I join the Court’s opinion in full. In Part II...\n",
       "348  SOTOMAYOR      Opinion  In Kokesh v. SEC, 581 U.S. ___ (2017), this Co...\n",
       "349     THOMAS      Dissent  The Court correctly declines to affirm the Nin...\n",
       "350  KAVANAUGH      Opinion  Under the immigration laws, a noncitizen who i...\n",
       "351  SOTOMAYOR      Dissent  The stop-time rule ends a noncitizen’s period ...\n",
       "\n",
       "[352 rows x 3 columns]"
      ]
     },
     "execution_count": 20,
     "metadata": {},
     "output_type": "execute_result"
    }
   ],
   "source": [
    "data"
   ]
  },
  {
   "cell_type": "code",
   "execution_count": 21,
   "id": "8a782485",
   "metadata": {},
   "outputs": [
    {
     "data": {
      "text/html": [
       "<div>\n",
       "<style scoped>\n",
       "    .dataframe tbody tr th:only-of-type {\n",
       "        vertical-align: middle;\n",
       "    }\n",
       "\n",
       "    .dataframe tbody tr th {\n",
       "        vertical-align: top;\n",
       "    }\n",
       "\n",
       "    .dataframe thead th {\n",
       "        text-align: right;\n",
       "    }\n",
       "</style>\n",
       "<table border=\"1\" class=\"dataframe\">\n",
       "  <thead>\n",
       "    <tr style=\"text-align: right;\">\n",
       "      <th></th>\n",
       "      <th>Author</th>\n",
       "      <th>Type</th>\n",
       "      <th>Text</th>\n",
       "    </tr>\n",
       "  </thead>\n",
       "  <tbody>\n",
       "    <tr>\n",
       "      <th>0</th>\n",
       "      <td>KAGAN</td>\n",
       "      <td>2</td>\n",
       "      <td>When a party who has agreed to arbitrate a dis...</td>\n",
       "    </tr>\n",
       "    <tr>\n",
       "      <th>1</th>\n",
       "      <td>BREYER</td>\n",
       "      <td>2</td>\n",
       "      <td>When the government encourages diverse express...</td>\n",
       "    </tr>\n",
       "    <tr>\n",
       "      <th>2</th>\n",
       "      <td>KAVANAUGH</td>\n",
       "      <td>0</td>\n",
       "      <td>This dispute arose only because of a governmen...</td>\n",
       "    </tr>\n",
       "    <tr>\n",
       "      <th>3</th>\n",
       "      <td>ALITO</td>\n",
       "      <td>0</td>\n",
       "      <td>I agree with the Court’s conclusion that Bosto...</td>\n",
       "    </tr>\n",
       "    <tr>\n",
       "      <th>4</th>\n",
       "      <td>GORSUCH</td>\n",
       "      <td>0</td>\n",
       "      <td>The real problem in this case doesn’t stem fro...</td>\n",
       "    </tr>\n",
       "    <tr>\n",
       "      <th>...</th>\n",
       "      <td>...</td>\n",
       "      <td>...</td>\n",
       "      <td>...</td>\n",
       "    </tr>\n",
       "    <tr>\n",
       "      <th>347</th>\n",
       "      <td>KAVANAUGH</td>\n",
       "      <td>0</td>\n",
       "      <td>I join the Court’s opinion in full. In Part II...</td>\n",
       "    </tr>\n",
       "    <tr>\n",
       "      <th>348</th>\n",
       "      <td>SOTOMAYOR</td>\n",
       "      <td>2</td>\n",
       "      <td>In Kokesh v. SEC, 581 U.S. ___ (2017), this Co...</td>\n",
       "    </tr>\n",
       "    <tr>\n",
       "      <th>349</th>\n",
       "      <td>THOMAS</td>\n",
       "      <td>1</td>\n",
       "      <td>The Court correctly declines to affirm the Nin...</td>\n",
       "    </tr>\n",
       "    <tr>\n",
       "      <th>350</th>\n",
       "      <td>KAVANAUGH</td>\n",
       "      <td>2</td>\n",
       "      <td>Under the immigration laws, a noncitizen who i...</td>\n",
       "    </tr>\n",
       "    <tr>\n",
       "      <th>351</th>\n",
       "      <td>SOTOMAYOR</td>\n",
       "      <td>1</td>\n",
       "      <td>The stop-time rule ends a noncitizen’s period ...</td>\n",
       "    </tr>\n",
       "  </tbody>\n",
       "</table>\n",
       "<p>352 rows × 3 columns</p>\n",
       "</div>"
      ],
      "text/plain": [
       "        Author  Type                                               Text\n",
       "0        KAGAN     2  When a party who has agreed to arbitrate a dis...\n",
       "1       BREYER     2  When the government encourages diverse express...\n",
       "2    KAVANAUGH     0  This dispute arose only because of a governmen...\n",
       "3        ALITO     0  I agree with the Court’s conclusion that Bosto...\n",
       "4      GORSUCH     0  The real problem in this case doesn’t stem fro...\n",
       "..         ...   ...                                                ...\n",
       "347  KAVANAUGH     0  I join the Court’s opinion in full. In Part II...\n",
       "348  SOTOMAYOR     2  In Kokesh v. SEC, 581 U.S. ___ (2017), this Co...\n",
       "349     THOMAS     1  The Court correctly declines to affirm the Nin...\n",
       "350  KAVANAUGH     2  Under the immigration laws, a noncitizen who i...\n",
       "351  SOTOMAYOR     1  The stop-time rule ends a noncitizen’s period ...\n",
       "\n",
       "[352 rows x 3 columns]"
      ]
     },
     "execution_count": 21,
     "metadata": {},
     "output_type": "execute_result"
    }
   ],
   "source": [
    "le = preprocessing.LabelEncoder()\n",
    "data[\"Type\"] = le.fit_transform(data[\"Type\"])\n",
    "data"
   ]
  },
  {
   "cell_type": "code",
   "execution_count": 22,
   "id": "cf7e05ba",
   "metadata": {},
   "outputs": [
    {
     "data": {
      "text/html": [
       "<div>\n",
       "<style scoped>\n",
       "    .dataframe tbody tr th:only-of-type {\n",
       "        vertical-align: middle;\n",
       "    }\n",
       "\n",
       "    .dataframe tbody tr th {\n",
       "        vertical-align: top;\n",
       "    }\n",
       "\n",
       "    .dataframe thead th {\n",
       "        text-align: right;\n",
       "    }\n",
       "</style>\n",
       "<table border=\"1\" class=\"dataframe\">\n",
       "  <thead>\n",
       "    <tr style=\"text-align: right;\">\n",
       "      <th></th>\n",
       "      <th>Author</th>\n",
       "      <th>Type</th>\n",
       "      <th>Text</th>\n",
       "      <th>101</th>\n",
       "      <th>102</th>\n",
       "      <th>103</th>\n",
       "      <th>104</th>\n",
       "      <th>105</th>\n",
       "      <th>106</th>\n",
       "      <th>107</th>\n",
       "      <th>...</th>\n",
       "      <th>wright</th>\n",
       "      <th>writ</th>\n",
       "      <th>write</th>\n",
       "      <th>writing</th>\n",
       "      <th>written</th>\n",
       "      <th>wrote</th>\n",
       "      <th>www</th>\n",
       "      <th>yes</th>\n",
       "      <th>yield</th>\n",
       "      <th>young</th>\n",
       "    </tr>\n",
       "  </thead>\n",
       "  <tbody>\n",
       "    <tr>\n",
       "      <th>0</th>\n",
       "      <td>KAGAN</td>\n",
       "      <td>2</td>\n",
       "      <td>When a party who has agreed to arbitrate a dis...</td>\n",
       "      <td>0</td>\n",
       "      <td>0</td>\n",
       "      <td>0</td>\n",
       "      <td>0</td>\n",
       "      <td>0</td>\n",
       "      <td>0</td>\n",
       "      <td>0</td>\n",
       "      <td>...</td>\n",
       "      <td>0</td>\n",
       "      <td>0</td>\n",
       "      <td>0</td>\n",
       "      <td>0</td>\n",
       "      <td>0</td>\n",
       "      <td>0</td>\n",
       "      <td>0</td>\n",
       "      <td>0</td>\n",
       "      <td>0</td>\n",
       "      <td>0</td>\n",
       "    </tr>\n",
       "    <tr>\n",
       "      <th>1</th>\n",
       "      <td>BREYER</td>\n",
       "      <td>2</td>\n",
       "      <td>When the government encourages diverse express...</td>\n",
       "      <td>0</td>\n",
       "      <td>0</td>\n",
       "      <td>0</td>\n",
       "      <td>0</td>\n",
       "      <td>0</td>\n",
       "      <td>0</td>\n",
       "      <td>0</td>\n",
       "      <td>...</td>\n",
       "      <td>0</td>\n",
       "      <td>0</td>\n",
       "      <td>0</td>\n",
       "      <td>1</td>\n",
       "      <td>2</td>\n",
       "      <td>0</td>\n",
       "      <td>4</td>\n",
       "      <td>0</td>\n",
       "      <td>0</td>\n",
       "      <td>0</td>\n",
       "    </tr>\n",
       "    <tr>\n",
       "      <th>2</th>\n",
       "      <td>KAVANAUGH</td>\n",
       "      <td>0</td>\n",
       "      <td>This dispute arose only because of a governmen...</td>\n",
       "      <td>0</td>\n",
       "      <td>0</td>\n",
       "      <td>0</td>\n",
       "      <td>0</td>\n",
       "      <td>0</td>\n",
       "      <td>0</td>\n",
       "      <td>0</td>\n",
       "      <td>...</td>\n",
       "      <td>0</td>\n",
       "      <td>0</td>\n",
       "      <td>0</td>\n",
       "      <td>0</td>\n",
       "      <td>0</td>\n",
       "      <td>0</td>\n",
       "      <td>0</td>\n",
       "      <td>0</td>\n",
       "      <td>0</td>\n",
       "      <td>0</td>\n",
       "    </tr>\n",
       "    <tr>\n",
       "      <th>3</th>\n",
       "      <td>ALITO</td>\n",
       "      <td>0</td>\n",
       "      <td>I agree with the Court’s conclusion that Bosto...</td>\n",
       "      <td>0</td>\n",
       "      <td>0</td>\n",
       "      <td>0</td>\n",
       "      <td>0</td>\n",
       "      <td>0</td>\n",
       "      <td>0</td>\n",
       "      <td>0</td>\n",
       "      <td>...</td>\n",
       "      <td>0</td>\n",
       "      <td>0</td>\n",
       "      <td>0</td>\n",
       "      <td>0</td>\n",
       "      <td>4</td>\n",
       "      <td>0</td>\n",
       "      <td>0</td>\n",
       "      <td>0</td>\n",
       "      <td>0</td>\n",
       "      <td>0</td>\n",
       "    </tr>\n",
       "    <tr>\n",
       "      <th>4</th>\n",
       "      <td>GORSUCH</td>\n",
       "      <td>0</td>\n",
       "      <td>The real problem in this case doesn’t stem fro...</td>\n",
       "      <td>0</td>\n",
       "      <td>0</td>\n",
       "      <td>0</td>\n",
       "      <td>0</td>\n",
       "      <td>0</td>\n",
       "      <td>0</td>\n",
       "      <td>1</td>\n",
       "      <td>...</td>\n",
       "      <td>0</td>\n",
       "      <td>0</td>\n",
       "      <td>0</td>\n",
       "      <td>0</td>\n",
       "      <td>0</td>\n",
       "      <td>0</td>\n",
       "      <td>0</td>\n",
       "      <td>6</td>\n",
       "      <td>0</td>\n",
       "      <td>1</td>\n",
       "    </tr>\n",
       "  </tbody>\n",
       "</table>\n",
       "<p>5 rows × 1738 columns</p>\n",
       "</div>"
      ],
      "text/plain": [
       "      Author  Type                                               Text  101  \\\n",
       "0      KAGAN     2  When a party who has agreed to arbitrate a dis...    0   \n",
       "1     BREYER     2  When the government encourages diverse express...    0   \n",
       "2  KAVANAUGH     0  This dispute arose only because of a governmen...    0   \n",
       "3      ALITO     0  I agree with the Court’s conclusion that Bosto...    0   \n",
       "4    GORSUCH     0  The real problem in this case doesn’t stem fro...    0   \n",
       "\n",
       "   102  103  104  105  106  107  ...  wright  writ  write  writing  written  \\\n",
       "0    0    0    0    0    0    0  ...       0     0      0        0        0   \n",
       "1    0    0    0    0    0    0  ...       0     0      0        1        2   \n",
       "2    0    0    0    0    0    0  ...       0     0      0        0        0   \n",
       "3    0    0    0    0    0    0  ...       0     0      0        0        4   \n",
       "4    0    0    0    0    0    1  ...       0     0      0        0        0   \n",
       "\n",
       "   wrote  www  yes  yield  young  \n",
       "0      0    0    0      0      0  \n",
       "1      0    4    0      0      0  \n",
       "2      0    0    0      0      0  \n",
       "3      0    0    0      0      0  \n",
       "4      0    0    6      0      1  \n",
       "\n",
       "[5 rows x 1738 columns]"
      ]
     },
     "execution_count": 22,
     "metadata": {},
     "output_type": "execute_result"
    }
   ],
   "source": [
    "from sklearn.feature_extraction.text import CountVectorizer\n",
    "vec = CountVectorizer(max_df = 0.2, min_df = 30, stop_words = 'english')\n",
    "counts = vec.fit_transform(data['Text']) \n",
    "\n",
    "counts_df = pd.DataFrame(counts.toarray(), columns = vec.get_feature_names_out())\n",
    "counts_df.head(3)\n",
    "\n",
    "df = pd.concat((data,counts_df),axis = 1)\n",
    "df.head()"
   ]
  },
  {
   "cell_type": "code",
   "execution_count": 23,
   "id": "afd00b4d",
   "metadata": {},
   "outputs": [],
   "source": [
    "# Create training and testing data\n",
    "from sklearn.model_selection import train_test_split\n",
    "\n",
    "train,test = train_test_split(df, test_size = 0.3)\n",
    "\n",
    "X_train = train.drop(['Author','Type','Text'],axis = 1)\n",
    "y_train = train['Type']\n",
    "\n",
    "X_test = test.drop(['Author','Type','Text'],axis = 1)\n",
    "y_test = test['Type']"
   ]
  },
  {
   "cell_type": "code",
   "execution_count": 26,
   "id": "98e1fbc2",
   "metadata": {},
   "outputs": [
    {
     "data": {
      "text/plain": [
       "LogisticRegression(max_iter=500)"
      ]
     },
     "execution_count": 26,
     "metadata": {},
     "output_type": "execute_result"
    }
   ],
   "source": [
    "# Logistic Regression\n",
    "from sklearn.linear_model import LogisticRegression\n",
    "LR = LogisticRegression(max_iter = 500)\n",
    "LR.fit(X_train,y_train)"
   ]
  },
  {
   "cell_type": "code",
   "execution_count": 32,
   "id": "49b77296",
   "metadata": {},
   "outputs": [],
   "source": [
    "?LogisticRegression"
   ]
  },
  {
   "cell_type": "code",
   "execution_count": 30,
   "id": "6a6f087a",
   "metadata": {},
   "outputs": [
    {
     "ename": "TypeError",
     "evalue": "cross_val_score() got an unexpected keyword argument 'n_splits'",
     "output_type": "error",
     "traceback": [
      "\u001b[0;31m---------------------------------------------------------------------------\u001b[0m",
      "\u001b[0;31mTypeError\u001b[0m                                 Traceback (most recent call last)",
      "\u001b[0;32m/var/folders/zw/j8lwp6_56fn4hgrcqc6rcjwm0000gn/T/ipykernel_80213/3221054934.py\u001b[0m in \u001b[0;36m<module>\u001b[0;34m\u001b[0m\n\u001b[1;32m      1\u001b[0m \u001b[0;31m# Cross-validation score\u001b[0m\u001b[0;34m\u001b[0m\u001b[0;34m\u001b[0m\u001b[0;34m\u001b[0m\u001b[0m\n\u001b[1;32m      2\u001b[0m \u001b[0;32mfrom\u001b[0m \u001b[0msklearn\u001b[0m\u001b[0;34m.\u001b[0m\u001b[0mmodel_selection\u001b[0m \u001b[0;32mimport\u001b[0m \u001b[0mcross_val_score\u001b[0m\u001b[0;34m\u001b[0m\u001b[0;34m\u001b[0m\u001b[0m\n\u001b[0;32m----> 3\u001b[0;31m \u001b[0mcross_val_score\u001b[0m\u001b[0;34m(\u001b[0m\u001b[0mLR\u001b[0m\u001b[0;34m,\u001b[0m\u001b[0mX_train\u001b[0m\u001b[0;34m,\u001b[0m\u001b[0my_train\u001b[0m\u001b[0;34m,\u001b[0m\u001b[0mcv\u001b[0m \u001b[0;34m=\u001b[0m \u001b[0;36m5\u001b[0m\u001b[0;34m,\u001b[0m\u001b[0mn_splits\u001b[0m \u001b[0;34m=\u001b[0m \u001b[0;36m2\u001b[0m\u001b[0;34m)\u001b[0m\u001b[0;34m.\u001b[0m\u001b[0mmean\u001b[0m\u001b[0;34m(\u001b[0m\u001b[0;34m)\u001b[0m\u001b[0;34m\u001b[0m\u001b[0;34m\u001b[0m\u001b[0m\n\u001b[0m",
      "\u001b[0;31mTypeError\u001b[0m: cross_val_score() got an unexpected keyword argument 'n_splits'"
     ]
    }
   ],
   "source": [
    "# Cross-validation score\n",
    "from sklearn.model_selection import cross_val_score\n",
    "cross_val_score(LR,X_train,y_train,cv = 5).mean()"
   ]
  },
  {
   "cell_type": "code",
   "execution_count": 29,
   "id": "750b3b0e",
   "metadata": {},
   "outputs": [
    {
     "name": "stderr",
     "output_type": "stream",
     "text": [
      "/Users/ashwinvasan/opt/anaconda3/envs/PIC16B/lib/python3.7/site-packages/sklearn/model_selection/_split.py:680: UserWarning: The least populated class in y has only 3 members, which is less than n_splits=5.\n",
      "  UserWarning,\n"
     ]
    },
    {
     "name": "stdout",
     "output_type": "stream",
     "text": [
      "C =  0.005 CrossValScore =  0.5324897959183674\n"
     ]
    },
    {
     "name": "stderr",
     "output_type": "stream",
     "text": [
      "/Users/ashwinvasan/opt/anaconda3/envs/PIC16B/lib/python3.7/site-packages/sklearn/model_selection/_split.py:680: UserWarning: The least populated class in y has only 3 members, which is less than n_splits=5.\n",
      "  UserWarning,\n"
     ]
    },
    {
     "name": "stdout",
     "output_type": "stream",
     "text": [
      "C =  0.01 CrossValScore =  0.5244081632653061\n"
     ]
    },
    {
     "name": "stderr",
     "output_type": "stream",
     "text": [
      "/Users/ashwinvasan/opt/anaconda3/envs/PIC16B/lib/python3.7/site-packages/sklearn/model_selection/_split.py:680: UserWarning: The least populated class in y has only 3 members, which is less than n_splits=5.\n",
      "  UserWarning,\n"
     ]
    },
    {
     "name": "stdout",
     "output_type": "stream",
     "text": [
      "C =  0.015 CrossValScore =  0.5204081632653061\n"
     ]
    },
    {
     "name": "stderr",
     "output_type": "stream",
     "text": [
      "/Users/ashwinvasan/opt/anaconda3/envs/PIC16B/lib/python3.7/site-packages/sklearn/model_selection/_split.py:680: UserWarning: The least populated class in y has only 3 members, which is less than n_splits=5.\n",
      "  UserWarning,\n"
     ]
    },
    {
     "name": "stdout",
     "output_type": "stream",
     "text": [
      "C =  0.02 CrossValScore =  0.5244897959183673\n"
     ]
    },
    {
     "name": "stderr",
     "output_type": "stream",
     "text": [
      "/Users/ashwinvasan/opt/anaconda3/envs/PIC16B/lib/python3.7/site-packages/sklearn/model_selection/_split.py:680: UserWarning: The least populated class in y has only 3 members, which is less than n_splits=5.\n",
      "  UserWarning,\n"
     ]
    },
    {
     "name": "stdout",
     "output_type": "stream",
     "text": [
      "C =  0.025 CrossValScore =  0.5244897959183673\n"
     ]
    },
    {
     "name": "stderr",
     "output_type": "stream",
     "text": [
      "/Users/ashwinvasan/opt/anaconda3/envs/PIC16B/lib/python3.7/site-packages/sklearn/model_selection/_split.py:680: UserWarning: The least populated class in y has only 3 members, which is less than n_splits=5.\n",
      "  UserWarning,\n"
     ]
    },
    {
     "name": "stdout",
     "output_type": "stream",
     "text": [
      "C =  0.03 CrossValScore =  0.5244897959183673\n"
     ]
    },
    {
     "name": "stderr",
     "output_type": "stream",
     "text": [
      "/Users/ashwinvasan/opt/anaconda3/envs/PIC16B/lib/python3.7/site-packages/sklearn/model_selection/_split.py:680: UserWarning: The least populated class in y has only 3 members, which is less than n_splits=5.\n",
      "  UserWarning,\n"
     ]
    },
    {
     "name": "stdout",
     "output_type": "stream",
     "text": [
      "C =  0.035 CrossValScore =  0.53665306122449\n"
     ]
    },
    {
     "name": "stderr",
     "output_type": "stream",
     "text": [
      "/Users/ashwinvasan/opt/anaconda3/envs/PIC16B/lib/python3.7/site-packages/sklearn/model_selection/_split.py:680: UserWarning: The least populated class in y has only 3 members, which is less than n_splits=5.\n",
      "  UserWarning,\n"
     ]
    },
    {
     "name": "stdout",
     "output_type": "stream",
     "text": [
      "C =  0.04 CrossValScore =  0.5284897959183674\n"
     ]
    },
    {
     "name": "stderr",
     "output_type": "stream",
     "text": [
      "/Users/ashwinvasan/opt/anaconda3/envs/PIC16B/lib/python3.7/site-packages/sklearn/model_selection/_split.py:680: UserWarning: The least populated class in y has only 3 members, which is less than n_splits=5.\n",
      "  UserWarning,\n"
     ]
    },
    {
     "name": "stdout",
     "output_type": "stream",
     "text": [
      "C =  0.045 CrossValScore =  0.5325714285714286\n"
     ]
    },
    {
     "name": "stderr",
     "output_type": "stream",
     "text": [
      "/Users/ashwinvasan/opt/anaconda3/envs/PIC16B/lib/python3.7/site-packages/sklearn/model_selection/_split.py:680: UserWarning: The least populated class in y has only 3 members, which is less than n_splits=5.\n",
      "  UserWarning,\n"
     ]
    },
    {
     "name": "stdout",
     "output_type": "stream",
     "text": [
      "C =  0.05 CrossValScore =  0.5366530612244897\n"
     ]
    }
   ],
   "source": [
    "C_pool = np.linspace(0.005,0.05,10)\n",
    "best_score = -np.inf\n",
    "for c in C_pool:\n",
    "    LR = LogisticRegression(C = c, max_iter = 500)\n",
    "    score = cross_val_score(LR,X_train,y_train,cv = 5).mean()\n",
    "    if score > best_score:\n",
    "        best_score = score\n",
    "        best_c = c\n",
    "    print(\"C = \", np.round(c,3), \"CrossValScore = \", score)"
   ]
  },
  {
   "cell_type": "code",
   "execution_count": 36,
   "id": "2167b3a0",
   "metadata": {},
   "outputs": [
    {
     "data": {
      "text/plain": [
       "0.5471698113207547"
      ]
     },
     "execution_count": 36,
     "metadata": {},
     "output_type": "execute_result"
    }
   ],
   "source": [
    "LR = LogisticRegression(C = best_c, max_iter = 500)\n",
    "LR.fit(X_train,y_train)\n",
    "LR.score(X_test,y_test)"
   ]
  },
  {
   "cell_type": "code",
   "execution_count": 37,
   "id": "1fb384a7",
   "metadata": {},
   "outputs": [
    {
     "data": {
      "text/html": [
       "<div>\n",
       "<style scoped>\n",
       "    .dataframe tbody tr th:only-of-type {\n",
       "        vertical-align: middle;\n",
       "    }\n",
       "\n",
       "    .dataframe tbody tr th {\n",
       "        vertical-align: top;\n",
       "    }\n",
       "\n",
       "    .dataframe thead th {\n",
       "        text-align: right;\n",
       "    }\n",
       "</style>\n",
       "<table border=\"1\" class=\"dataframe\">\n",
       "  <thead>\n",
       "    <tr style=\"text-align: right;\">\n",
       "      <th></th>\n",
       "      <th>word</th>\n",
       "      <th>coef</th>\n",
       "    </tr>\n",
       "  </thead>\n",
       "  <tbody>\n",
       "    <tr>\n",
       "      <th>0</th>\n",
       "      <td>101</td>\n",
       "      <td>0.007461</td>\n",
       "    </tr>\n",
       "    <tr>\n",
       "      <th>1</th>\n",
       "      <td>102</td>\n",
       "      <td>0.001147</td>\n",
       "    </tr>\n",
       "    <tr>\n",
       "      <th>2</th>\n",
       "      <td>103</td>\n",
       "      <td>0.007293</td>\n",
       "    </tr>\n",
       "    <tr>\n",
       "      <th>3</th>\n",
       "      <td>104</td>\n",
       "      <td>-0.000455</td>\n",
       "    </tr>\n",
       "    <tr>\n",
       "      <th>4</th>\n",
       "      <td>105</td>\n",
       "      <td>0.000434</td>\n",
       "    </tr>\n",
       "    <tr>\n",
       "      <th>...</th>\n",
       "      <td>...</td>\n",
       "      <td>...</td>\n",
       "    </tr>\n",
       "    <tr>\n",
       "      <th>1730</th>\n",
       "      <td>wrote</td>\n",
       "      <td>-0.010713</td>\n",
       "    </tr>\n",
       "    <tr>\n",
       "      <th>1731</th>\n",
       "      <td>www</td>\n",
       "      <td>-0.009544</td>\n",
       "    </tr>\n",
       "    <tr>\n",
       "      <th>1732</th>\n",
       "      <td>yes</td>\n",
       "      <td>-0.004383</td>\n",
       "    </tr>\n",
       "    <tr>\n",
       "      <th>1733</th>\n",
       "      <td>yield</td>\n",
       "      <td>-0.005905</td>\n",
       "    </tr>\n",
       "    <tr>\n",
       "      <th>1734</th>\n",
       "      <td>young</td>\n",
       "      <td>-0.031191</td>\n",
       "    </tr>\n",
       "  </tbody>\n",
       "</table>\n",
       "<p>1735 rows × 2 columns</p>\n",
       "</div>"
      ],
      "text/plain": [
       "       word      coef\n",
       "0       101  0.007461\n",
       "1       102  0.001147\n",
       "2       103  0.007293\n",
       "3       104 -0.000455\n",
       "4       105  0.000434\n",
       "...     ...       ...\n",
       "1730  wrote -0.010713\n",
       "1731    www -0.009544\n",
       "1732    yes -0.004383\n",
       "1733  yield -0.005905\n",
       "1734  young -0.031191\n",
       "\n",
       "[1735 rows x 2 columns]"
      ]
     },
     "execution_count": 37,
     "metadata": {},
     "output_type": "execute_result"
    }
   ],
   "source": [
    "sentiment_df = pd.DataFrame({'word':X_train.columns, 'coef':LR.coef_[0]})\n",
    "sentiment_df"
   ]
  },
  {
   "cell_type": "code",
   "execution_count": 38,
   "id": "83a78f09",
   "metadata": {},
   "outputs": [
    {
     "data": {
      "text/html": [
       "<div>\n",
       "<style scoped>\n",
       "    .dataframe tbody tr th:only-of-type {\n",
       "        vertical-align: middle;\n",
       "    }\n",
       "\n",
       "    .dataframe tbody tr th {\n",
       "        vertical-align: top;\n",
       "    }\n",
       "\n",
       "    .dataframe thead th {\n",
       "        text-align: right;\n",
       "    }\n",
       "</style>\n",
       "<table border=\"1\" class=\"dataframe\">\n",
       "  <thead>\n",
       "    <tr style=\"text-align: right;\">\n",
       "      <th></th>\n",
       "      <th>word</th>\n",
       "      <th>coef</th>\n",
       "    </tr>\n",
       "  </thead>\n",
       "  <tbody>\n",
       "    <tr>\n",
       "      <th>796</th>\n",
       "      <td>documents</td>\n",
       "      <td>-0.105209</td>\n",
       "    </tr>\n",
       "    <tr>\n",
       "      <th>1564</th>\n",
       "      <td>stay</td>\n",
       "      <td>-0.104875</td>\n",
       "    </tr>\n",
       "    <tr>\n",
       "      <th>726</th>\n",
       "      <td>death</td>\n",
       "      <td>-0.078603</td>\n",
       "    </tr>\n",
       "    <tr>\n",
       "      <th>1021</th>\n",
       "      <td>immunity</td>\n",
       "      <td>-0.073437</td>\n",
       "    </tr>\n",
       "    <tr>\n",
       "      <th>654</th>\n",
       "      <td>concurrence</td>\n",
       "      <td>-0.073257</td>\n",
       "    </tr>\n",
       "    <tr>\n",
       "      <th>570</th>\n",
       "      <td>capacity</td>\n",
       "      <td>-0.070447</td>\n",
       "    </tr>\n",
       "    <tr>\n",
       "      <th>1329</th>\n",
       "      <td>principal</td>\n",
       "      <td>-0.067851</td>\n",
       "    </tr>\n",
       "    <tr>\n",
       "      <th>967</th>\n",
       "      <td>governor</td>\n",
       "      <td>-0.066112</td>\n",
       "    </tr>\n",
       "    <tr>\n",
       "      <th>1681</th>\n",
       "      <td>vehicle</td>\n",
       "      <td>-0.064570</td>\n",
       "    </tr>\n",
       "    <tr>\n",
       "      <th>629</th>\n",
       "      <td>comment</td>\n",
       "      <td>-0.059421</td>\n",
       "    </tr>\n",
       "  </tbody>\n",
       "</table>\n",
       "</div>"
      ],
      "text/plain": [
       "             word      coef\n",
       "796     documents -0.105209\n",
       "1564         stay -0.104875\n",
       "726         death -0.078603\n",
       "1021     immunity -0.073437\n",
       "654   concurrence -0.073257\n",
       "570      capacity -0.070447\n",
       "1329    principal -0.067851\n",
       "967      governor -0.066112\n",
       "1681      vehicle -0.064570\n",
       "629       comment -0.059421"
      ]
     },
     "execution_count": 38,
     "metadata": {},
     "output_type": "execute_result"
    }
   ],
   "source": [
    "# Likely related to opinions\n",
    "sentiment_df.sort_values(['coef'],ascending = True).head(10)"
   ]
  },
  {
   "cell_type": "code",
   "execution_count": 39,
   "id": "a7205508",
   "metadata": {},
   "outputs": [
    {
     "data": {
      "text/html": [
       "<div>\n",
       "<style scoped>\n",
       "    .dataframe tbody tr th:only-of-type {\n",
       "        vertical-align: middle;\n",
       "    }\n",
       "\n",
       "    .dataframe tbody tr th {\n",
       "        vertical-align: top;\n",
       "    }\n",
       "\n",
       "    .dataframe thead th {\n",
       "        text-align: right;\n",
       "    }\n",
       "</style>\n",
       "<table border=\"1\" class=\"dataframe\">\n",
       "  <thead>\n",
       "    <tr style=\"text-align: right;\">\n",
       "      <th></th>\n",
       "      <th>word</th>\n",
       "      <th>coef</th>\n",
       "    </tr>\n",
       "  </thead>\n",
       "  <tbody>\n",
       "    <tr>\n",
       "      <th>1727</th>\n",
       "      <td>write</td>\n",
       "      <td>0.085848</td>\n",
       "    </tr>\n",
       "    <tr>\n",
       "      <th>1331</th>\n",
       "      <td>privilege</td>\n",
       "      <td>0.056261</td>\n",
       "    </tr>\n",
       "    <tr>\n",
       "      <th>1160</th>\n",
       "      <td>mandate</td>\n",
       "      <td>0.054445</td>\n",
       "    </tr>\n",
       "    <tr>\n",
       "      <th>851</th>\n",
       "      <td>entry</td>\n",
       "      <td>0.053162</td>\n",
       "    </tr>\n",
       "    <tr>\n",
       "      <th>1083</th>\n",
       "      <td>johnson</td>\n",
       "      <td>0.047166</td>\n",
       "    </tr>\n",
       "    <tr>\n",
       "      <th>666</th>\n",
       "      <td>consent</td>\n",
       "      <td>0.047103</td>\n",
       "    </tr>\n",
       "    <tr>\n",
       "      <th>586</th>\n",
       "      <td>catholic</td>\n",
       "      <td>0.046863</td>\n",
       "    </tr>\n",
       "    <tr>\n",
       "      <th>1129</th>\n",
       "      <td>license</td>\n",
       "      <td>0.045122</td>\n",
       "    </tr>\n",
       "    <tr>\n",
       "      <th>588</th>\n",
       "      <td>causes</td>\n",
       "      <td>0.044424</td>\n",
       "    </tr>\n",
       "    <tr>\n",
       "      <th>1624</th>\n",
       "      <td>timely</td>\n",
       "      <td>0.044251</td>\n",
       "    </tr>\n",
       "  </tbody>\n",
       "</table>\n",
       "</div>"
      ],
      "text/plain": [
       "           word      coef\n",
       "1727      write  0.085848\n",
       "1331  privilege  0.056261\n",
       "1160    mandate  0.054445\n",
       "851       entry  0.053162\n",
       "1083    johnson  0.047166\n",
       "666     consent  0.047103\n",
       "586    catholic  0.046863\n",
       "1129    license  0.045122\n",
       "588      causes  0.044424\n",
       "1624     timely  0.044251"
      ]
     },
     "execution_count": 39,
     "metadata": {},
     "output_type": "execute_result"
    }
   ],
   "source": [
    "# Likely related to concurrence\n",
    "sentiment_df.sort_values(['coef'],ascending = False).head(10)"
   ]
  },
  {
   "cell_type": "markdown",
   "id": "0f7157ee",
   "metadata": {},
   "source": [
    "## Text Classification for Type using tensorflow"
   ]
  },
  {
   "cell_type": "code",
   "execution_count": 40,
   "id": "099b3452",
   "metadata": {},
   "outputs": [
    {
     "name": "stderr",
     "output_type": "stream",
     "text": [
      "2022-06-02 14:23:50.545567: I tensorflow/core/platform/cpu_feature_guard.cc:193] This TensorFlow binary is optimized with oneAPI Deep Neural Network Library (oneDNN) to use the following CPU instructions in performance-critical operations:  AVX2 FMA\n",
      "To enable them in other operations, rebuild TensorFlow with the appropriate compiler flags.\n"
     ]
    }
   ],
   "source": [
    "import numpy as np\n",
    "import pandas as pd\n",
    "import tensorflow as tf\n",
    "import re\n",
    "import string\n",
    "\n",
    "from tensorflow.keras import layers\n",
    "from tensorflow.keras import losses\n",
    "\n",
    "# requires update to tensorflow 2.4\n",
    "# >>> conda activate PIC16B\n",
    "# >>> pip install tensorflow==2.4\n",
    "from tensorflow.keras.layers.experimental.preprocessing import TextVectorization\n",
    "from tensorflow.keras.layers.experimental.preprocessing import StringLookup\n",
    "\n",
    "from sklearn.model_selection import train_test_split\n",
    "from sklearn.preprocessing import LabelEncoder"
   ]
  },
  {
   "cell_type": "code",
   "execution_count": 41,
   "id": "5917f54f",
   "metadata": {},
   "outputs": [
    {
     "data": {
      "text/html": [
       "<div>\n",
       "<style scoped>\n",
       "    .dataframe tbody tr th:only-of-type {\n",
       "        vertical-align: middle;\n",
       "    }\n",
       "\n",
       "    .dataframe tbody tr th {\n",
       "        vertical-align: top;\n",
       "    }\n",
       "\n",
       "    .dataframe thead th {\n",
       "        text-align: right;\n",
       "    }\n",
       "</style>\n",
       "<table border=\"1\" class=\"dataframe\">\n",
       "  <thead>\n",
       "    <tr style=\"text-align: right;\">\n",
       "      <th></th>\n",
       "      <th>Author</th>\n",
       "      <th>Type</th>\n",
       "      <th>Text</th>\n",
       "    </tr>\n",
       "  </thead>\n",
       "  <tbody>\n",
       "    <tr>\n",
       "      <th>0</th>\n",
       "      <td>KAGAN</td>\n",
       "      <td>2</td>\n",
       "      <td>When a party who has agreed to arbitrate a dis...</td>\n",
       "    </tr>\n",
       "    <tr>\n",
       "      <th>1</th>\n",
       "      <td>BREYER</td>\n",
       "      <td>2</td>\n",
       "      <td>When the government encourages diverse express...</td>\n",
       "    </tr>\n",
       "    <tr>\n",
       "      <th>2</th>\n",
       "      <td>KAVANAUGH</td>\n",
       "      <td>0</td>\n",
       "      <td>This dispute arose only because of a governmen...</td>\n",
       "    </tr>\n",
       "    <tr>\n",
       "      <th>3</th>\n",
       "      <td>ALITO</td>\n",
       "      <td>0</td>\n",
       "      <td>I agree with the Court’s conclusion that Bosto...</td>\n",
       "    </tr>\n",
       "    <tr>\n",
       "      <th>4</th>\n",
       "      <td>GORSUCH</td>\n",
       "      <td>0</td>\n",
       "      <td>The real problem in this case doesn’t stem fro...</td>\n",
       "    </tr>\n",
       "    <tr>\n",
       "      <th>...</th>\n",
       "      <td>...</td>\n",
       "      <td>...</td>\n",
       "      <td>...</td>\n",
       "    </tr>\n",
       "    <tr>\n",
       "      <th>347</th>\n",
       "      <td>KAVANAUGH</td>\n",
       "      <td>0</td>\n",
       "      <td>I join the Court’s opinion in full. In Part II...</td>\n",
       "    </tr>\n",
       "    <tr>\n",
       "      <th>348</th>\n",
       "      <td>SOTOMAYOR</td>\n",
       "      <td>2</td>\n",
       "      <td>In Kokesh v. SEC, 581 U.S. ___ (2017), this Co...</td>\n",
       "    </tr>\n",
       "    <tr>\n",
       "      <th>349</th>\n",
       "      <td>THOMAS</td>\n",
       "      <td>1</td>\n",
       "      <td>The Court correctly declines to affirm the Nin...</td>\n",
       "    </tr>\n",
       "    <tr>\n",
       "      <th>350</th>\n",
       "      <td>KAVANAUGH</td>\n",
       "      <td>2</td>\n",
       "      <td>Under the immigration laws, a noncitizen who i...</td>\n",
       "    </tr>\n",
       "    <tr>\n",
       "      <th>351</th>\n",
       "      <td>SOTOMAYOR</td>\n",
       "      <td>1</td>\n",
       "      <td>The stop-time rule ends a noncitizen’s period ...</td>\n",
       "    </tr>\n",
       "  </tbody>\n",
       "</table>\n",
       "<p>352 rows × 3 columns</p>\n",
       "</div>"
      ],
      "text/plain": [
       "        Author  Type                                               Text\n",
       "0        KAGAN     2  When a party who has agreed to arbitrate a dis...\n",
       "1       BREYER     2  When the government encourages diverse express...\n",
       "2    KAVANAUGH     0  This dispute arose only because of a governmen...\n",
       "3        ALITO     0  I agree with the Court’s conclusion that Bosto...\n",
       "4      GORSUCH     0  The real problem in this case doesn’t stem fro...\n",
       "..         ...   ...                                                ...\n",
       "347  KAVANAUGH     0  I join the Court’s opinion in full. In Part II...\n",
       "348  SOTOMAYOR     2  In Kokesh v. SEC, 581 U.S. ___ (2017), this Co...\n",
       "349     THOMAS     1  The Court correctly declines to affirm the Nin...\n",
       "350  KAVANAUGH     2  Under the immigration laws, a noncitizen who i...\n",
       "351  SOTOMAYOR     1  The stop-time rule ends a noncitizen’s period ...\n",
       "\n",
       "[352 rows x 3 columns]"
      ]
     },
     "execution_count": 41,
     "metadata": {},
     "output_type": "execute_result"
    }
   ],
   "source": [
    "data"
   ]
  },
  {
   "cell_type": "code",
   "execution_count": 44,
   "id": "7f65febe",
   "metadata": {},
   "outputs": [
    {
     "data": {
      "text/html": [
       "<div>\n",
       "<style scoped>\n",
       "    .dataframe tbody tr th:only-of-type {\n",
       "        vertical-align: middle;\n",
       "    }\n",
       "\n",
       "    .dataframe tbody tr th {\n",
       "        vertical-align: top;\n",
       "    }\n",
       "\n",
       "    .dataframe thead th {\n",
       "        text-align: right;\n",
       "    }\n",
       "</style>\n",
       "<table border=\"1\" class=\"dataframe\">\n",
       "  <thead>\n",
       "    <tr style=\"text-align: right;\">\n",
       "      <th></th>\n",
       "      <th>Type</th>\n",
       "      <th>Text</th>\n",
       "    </tr>\n",
       "  </thead>\n",
       "  <tbody>\n",
       "    <tr>\n",
       "      <th>0</th>\n",
       "      <td>2</td>\n",
       "      <td>When a party who has agreed to arbitrate a dis...</td>\n",
       "    </tr>\n",
       "    <tr>\n",
       "      <th>1</th>\n",
       "      <td>2</td>\n",
       "      <td>When the government encourages diverse express...</td>\n",
       "    </tr>\n",
       "    <tr>\n",
       "      <th>2</th>\n",
       "      <td>0</td>\n",
       "      <td>This dispute arose only because of a governmen...</td>\n",
       "    </tr>\n",
       "    <tr>\n",
       "      <th>3</th>\n",
       "      <td>0</td>\n",
       "      <td>I agree with the Court’s conclusion that Bosto...</td>\n",
       "    </tr>\n",
       "    <tr>\n",
       "      <th>4</th>\n",
       "      <td>0</td>\n",
       "      <td>The real problem in this case doesn’t stem fro...</td>\n",
       "    </tr>\n",
       "    <tr>\n",
       "      <th>...</th>\n",
       "      <td>...</td>\n",
       "      <td>...</td>\n",
       "    </tr>\n",
       "    <tr>\n",
       "      <th>347</th>\n",
       "      <td>0</td>\n",
       "      <td>I join the Court’s opinion in full. In Part II...</td>\n",
       "    </tr>\n",
       "    <tr>\n",
       "      <th>348</th>\n",
       "      <td>2</td>\n",
       "      <td>In Kokesh v. SEC, 581 U.S. ___ (2017), this Co...</td>\n",
       "    </tr>\n",
       "    <tr>\n",
       "      <th>349</th>\n",
       "      <td>1</td>\n",
       "      <td>The Court correctly declines to affirm the Nin...</td>\n",
       "    </tr>\n",
       "    <tr>\n",
       "      <th>350</th>\n",
       "      <td>2</td>\n",
       "      <td>Under the immigration laws, a noncitizen who i...</td>\n",
       "    </tr>\n",
       "    <tr>\n",
       "      <th>351</th>\n",
       "      <td>1</td>\n",
       "      <td>The stop-time rule ends a noncitizen’s period ...</td>\n",
       "    </tr>\n",
       "  </tbody>\n",
       "</table>\n",
       "<p>352 rows × 2 columns</p>\n",
       "</div>"
      ],
      "text/plain": [
       "     Type                                               Text\n",
       "0       2  When a party who has agreed to arbitrate a dis...\n",
       "1       2  When the government encourages diverse express...\n",
       "2       0  This dispute arose only because of a governmen...\n",
       "3       0  I agree with the Court’s conclusion that Bosto...\n",
       "4       0  The real problem in this case doesn’t stem fro...\n",
       "..    ...                                                ...\n",
       "347     0  I join the Court’s opinion in full. In Part II...\n",
       "348     2  In Kokesh v. SEC, 581 U.S. ___ (2017), this Co...\n",
       "349     1  The Court correctly declines to affirm the Nin...\n",
       "350     2  Under the immigration laws, a noncitizen who i...\n",
       "351     1  The stop-time rule ends a noncitizen’s period ...\n",
       "\n",
       "[352 rows x 2 columns]"
      ]
     },
     "execution_count": 44,
     "metadata": {},
     "output_type": "execute_result"
    }
   ],
   "source": [
    "type_df = data.drop([\"Author\"], axis = 1)\n",
    "type_df"
   ]
  },
  {
   "cell_type": "code",
   "execution_count": 45,
   "id": "5341201f",
   "metadata": {},
   "outputs": [
    {
     "data": {
      "text/plain": [
       "Type\n",
       "0    106\n",
       "1    114\n",
       "2    128\n",
       "3      4\n",
       "dtype: int64"
      ]
     },
     "execution_count": 45,
     "metadata": {},
     "output_type": "execute_result"
    }
   ],
   "source": [
    "# 0: concurrence, 1: dissent, 2: opinion\n",
    "type_df.groupby(\"Type\").size()"
   ]
  },
  {
   "cell_type": "code",
   "execution_count": 46,
   "id": "36c2cb6a",
   "metadata": {},
   "outputs": [
    {
     "name": "stderr",
     "output_type": "stream",
     "text": [
      "2022-06-02 14:27:41.420607: I tensorflow/core/platform/cpu_feature_guard.cc:193] This TensorFlow binary is optimized with oneAPI Deep Neural Network Library (oneDNN) to use the following CPU instructions in performance-critical operations:  AVX2 FMA\n",
      "To enable them in other operations, rebuild TensorFlow with the appropriate compiler flags.\n"
     ]
    }
   ],
   "source": [
    "type_data = tf.data.Dataset.from_tensor_slices((type_df[\"Text\"], type_df[\"Type\"]))"
   ]
  },
  {
   "cell_type": "code",
   "execution_count": 47,
   "id": "f762e11c",
   "metadata": {},
   "outputs": [],
   "source": [
    "type_data = type_data.shuffle(buffer_size = len(type_data))"
   ]
  },
  {
   "cell_type": "code",
   "execution_count": 55,
   "id": "14a6e30f",
   "metadata": {},
   "outputs": [],
   "source": [
    "# Split data into 70% train, 10% validation, 20% test\n",
    "\n",
    "train_size = int(0.7*len(type_data)) \n",
    "val_size = int(0.1*len(type_data))\n",
    "\n",
    "type_train = type_data.take(train_size) \n",
    "type_val = type_data.skip(train_size).take(val_size)\n",
    "type_test = type_data.skip(train_size+val_size)"
   ]
  },
  {
   "cell_type": "code",
   "execution_count": 56,
   "id": "a257487c",
   "metadata": {},
   "outputs": [],
   "source": [
    "# standardize the text: remove punctuation, make everything lowercase\n",
    "def standardization(input_data):\n",
    "    lowercase = tf.strings.lower(input_data)\n",
    "    no_punctuation = tf.strings.regex_replace(lowercase,\n",
    "                                  '[%s]' % re.escape(string.punctuation),'')\n",
    "    return no_punctuation "
   ]
  },
  {
   "cell_type": "code",
   "execution_count": 58,
   "id": "f01886e4",
   "metadata": {},
   "outputs": [
    {
     "name": "stdout",
     "output_type": "stream",
     "text": [
      "WARNING:tensorflow:AutoGraph could not transform <function <lambda> at 0x7feba081ca70> and will run it as-is.\n",
      "Please report this to the TensorFlow team. When filing the bug, set the verbosity to 10 (on Linux, `export AUTOGRAPH_VERBOSITY=10`) and attach the full output.\n",
      "Cause: 'arguments' object has no attribute 'posonlyargs'\n",
      "To silence this warning, decorate the function with @tf.autograph.experimental.do_not_convert\n",
      "WARNING: AutoGraph could not transform <function <lambda> at 0x7feba081ca70> and will run it as-is.\n",
      "Please report this to the TensorFlow team. When filing the bug, set the verbosity to 10 (on Linux, `export AUTOGRAPH_VERBOSITY=10`) and attach the full output.\n",
      "Cause: 'arguments' object has no attribute 'posonlyargs'\n",
      "To silence this warning, decorate the function with @tf.autograph.experimental.do_not_convert\n",
      "WARNING:tensorflow:AutoGraph could not transform <function PreprocessingLayer.make_adapt_function.<locals>.adapt_step at 0x7feb8cee24d0> and will run it as-is.\n",
      "Please report this to the TensorFlow team. When filing the bug, set the verbosity to 10 (on Linux, `export AUTOGRAPH_VERBOSITY=10`) and attach the full output.\n",
      "Cause: 'arguments' object has no attribute 'posonlyargs'\n",
      "To silence this warning, decorate the function with @tf.autograph.experimental.do_not_convert\n",
      "WARNING: AutoGraph could not transform <function PreprocessingLayer.make_adapt_function.<locals>.adapt_step at 0x7feb8cee24d0> and will run it as-is.\n",
      "Please report this to the TensorFlow team. When filing the bug, set the verbosity to 10 (on Linux, `export AUTOGRAPH_VERBOSITY=10`) and attach the full output.\n",
      "Cause: 'arguments' object has no attribute 'posonlyargs'\n",
      "To silence this warning, decorate the function with @tf.autograph.experimental.do_not_convert\n"
     ]
    }
   ],
   "source": [
    "max_tokens = 2000\n",
    "sequence_length = 25 \n",
    "\n",
    "vectorize_layer = TextVectorization(\n",
    "    standardize =  standardization, \n",
    "    output_mode = 'int', \n",
    "    max_tokens = max_tokens, \n",
    "    output_sequence_length =  sequence_length\n",
    ")\n",
    "\n",
    "opinion_type = type_train.map(lambda x, y: x)\n",
    "vectorize_layer.adapt(opinion_type)"
   ]
  },
  {
   "cell_type": "code",
   "execution_count": 59,
   "id": "92b897e3",
   "metadata": {},
   "outputs": [
    {
     "name": "stdout",
     "output_type": "stream",
     "text": [
      "WARNING:tensorflow:AutoGraph could not transform <function vectorize_headline at 0x7feb8d270d40> and will run it as-is.\n",
      "Please report this to the TensorFlow team. When filing the bug, set the verbosity to 10 (on Linux, `export AUTOGRAPH_VERBOSITY=10`) and attach the full output.\n",
      "Cause: 'arguments' object has no attribute 'posonlyargs'\n",
      "To silence this warning, decorate the function with @tf.autograph.experimental.do_not_convert\n",
      "WARNING: AutoGraph could not transform <function vectorize_headline at 0x7feb8d270d40> and will run it as-is.\n",
      "Please report this to the TensorFlow team. When filing the bug, set the verbosity to 10 (on Linux, `export AUTOGRAPH_VERBOSITY=10`) and attach the full output.\n",
      "Cause: 'arguments' object has no attribute 'posonlyargs'\n",
      "To silence this warning, decorate the function with @tf.autograph.experimental.do_not_convert\n"
     ]
    }
   ],
   "source": [
    "def vectorize_headline(text, label):\n",
    "    text = tf.expand_dims(text, -1)\n",
    "    return vectorize_layer(text), [label]\n",
    "\n",
    "train_vec = type_train.map(vectorize_headline)\n",
    "val_vec = type_val.map(vectorize_headline)\n",
    "test_vec = type_test.map(vectorize_headline)"
   ]
  },
  {
   "cell_type": "code",
   "execution_count": 61,
   "id": "92d96d3a",
   "metadata": {},
   "outputs": [],
   "source": [
    "model = tf.keras.Sequential([\n",
    "    layers.Embedding(max_tokens, output_dim = 3, name = \"embedding\"),\n",
    "    layers.Dropout(0.2), # randomly \"drop\" or delete 20% of connections between previous layer and the next layer\n",
    "    layers.GlobalAveragePooling1D(), # take the average along an axis\n",
    "    layers.Dropout(0.2), # forces it to forget info randomly at times, forces model to do better job overall (learning global patterns rather than noise)\n",
    "    layers.Dense(3)\n",
    "])"
   ]
  },
  {
   "cell_type": "code",
   "execution_count": 62,
   "id": "0a3c2e7e",
   "metadata": {},
   "outputs": [
    {
     "name": "stdout",
     "output_type": "stream",
     "text": [
      "Model: \"sequential\"\n",
      "_________________________________________________________________\n",
      " Layer (type)                Output Shape              Param #   \n",
      "=================================================================\n",
      " embedding (Embedding)       (None, None, 3)           6000      \n",
      "                                                                 \n",
      " dropout_2 (Dropout)         (None, None, 3)           0         \n",
      "                                                                 \n",
      " global_average_pooling1d_1   (None, 3)                0         \n",
      " (GlobalAveragePooling1D)                                        \n",
      "                                                                 \n",
      " dropout_3 (Dropout)         (None, 3)                 0         \n",
      "                                                                 \n",
      " dense (Dense)               (None, 3)                 12        \n",
      "                                                                 \n",
      "=================================================================\n",
      "Total params: 6,012\n",
      "Trainable params: 6,012\n",
      "Non-trainable params: 0\n",
      "_________________________________________________________________\n"
     ]
    }
   ],
   "source": [
    "model.compile(loss = losses.SparseCategoricalCrossentropy(from_logits = True),\n",
    "              optimizer = \"adam\",\n",
    "              metrics = [\"accuracy\"])\n",
    "\n",
    "model.summary()"
   ]
  },
  {
   "cell_type": "code",
   "execution_count": 63,
   "id": "f4614534",
   "metadata": {},
   "outputs": [
    {
     "name": "stdout",
     "output_type": "stream",
     "text": [
      "Epoch 1/20\n",
      "WARNING:tensorflow:AutoGraph could not transform <function Model.make_train_function.<locals>.train_function at 0x7feb8d2703b0> and will run it as-is.\n",
      "Please report this to the TensorFlow team. When filing the bug, set the verbosity to 10 (on Linux, `export AUTOGRAPH_VERBOSITY=10`) and attach the full output.\n",
      "Cause: 'arguments' object has no attribute 'posonlyargs'\n",
      "To silence this warning, decorate the function with @tf.autograph.experimental.do_not_convert\n",
      "WARNING: AutoGraph could not transform <function Model.make_train_function.<locals>.train_function at 0x7feb8d2703b0> and will run it as-is.\n",
      "Please report this to the TensorFlow team. When filing the bug, set the verbosity to 10 (on Linux, `export AUTOGRAPH_VERBOSITY=10`) and attach the full output.\n",
      "Cause: 'arguments' object has no attribute 'posonlyargs'\n",
      "To silence this warning, decorate the function with @tf.autograph.experimental.do_not_convert\n",
      " 52/246 [=====>........................] - ETA: 0s - loss: 1.1011 - accuracy: 0.3462"
     ]
    },
    {
     "name": "stderr",
     "output_type": "stream",
     "text": [
      "2022-06-02 14:52:31.092100: W tensorflow/core/framework/op_kernel.cc:1745] OP_REQUIRES failed at sparse_xent_op.cc:103 : INVALID_ARGUMENT: Received a label value of 3 which is outside the valid range of [0, 3).  Label values: 3\n"
     ]
    },
    {
     "ename": "InvalidArgumentError",
     "evalue": "Graph execution error:\n\nDetected at node 'sparse_categorical_crossentropy/SparseSoftmaxCrossEntropyWithLogits/SparseSoftmaxCrossEntropyWithLogits' defined at (most recent call last):\n    File \"/Users/ashwinvasan/opt/anaconda3/envs/PIC16B/lib/python3.7/runpy.py\", line 193, in _run_module_as_main\n      \"__main__\", mod_spec)\n    File \"/Users/ashwinvasan/opt/anaconda3/envs/PIC16B/lib/python3.7/runpy.py\", line 85, in _run_code\n      exec(code, run_globals)\n    File \"/Users/ashwinvasan/opt/anaconda3/envs/PIC16B/lib/python3.7/site-packages/ipykernel_launcher.py\", line 16, in <module>\n      app.launch_new_instance()\n    File \"/Users/ashwinvasan/opt/anaconda3/envs/PIC16B/lib/python3.7/site-packages/traitlets/config/application.py\", line 846, in launch_instance\n      app.start()\n    File \"/Users/ashwinvasan/opt/anaconda3/envs/PIC16B/lib/python3.7/site-packages/ipykernel/kernelapp.py\", line 677, in start\n      self.io_loop.start()\n    File \"/Users/ashwinvasan/opt/anaconda3/envs/PIC16B/lib/python3.7/site-packages/tornado/platform/asyncio.py\", line 199, in start\n      self.asyncio_loop.run_forever()\n    File \"/Users/ashwinvasan/opt/anaconda3/envs/PIC16B/lib/python3.7/asyncio/base_events.py\", line 541, in run_forever\n      self._run_once()\n    File \"/Users/ashwinvasan/opt/anaconda3/envs/PIC16B/lib/python3.7/asyncio/base_events.py\", line 1786, in _run_once\n      handle._run()\n    File \"/Users/ashwinvasan/opt/anaconda3/envs/PIC16B/lib/python3.7/asyncio/events.py\", line 88, in _run\n      self._context.run(self._callback, *self._args)\n    File \"/Users/ashwinvasan/opt/anaconda3/envs/PIC16B/lib/python3.7/site-packages/ipykernel/kernelbase.py\", line 471, in dispatch_queue\n      await self.process_one()\n    File \"/Users/ashwinvasan/opt/anaconda3/envs/PIC16B/lib/python3.7/site-packages/ipykernel/kernelbase.py\", line 460, in process_one\n      await dispatch(*args)\n    File \"/Users/ashwinvasan/opt/anaconda3/envs/PIC16B/lib/python3.7/site-packages/ipykernel/kernelbase.py\", line 367, in dispatch_shell\n      await result\n    File \"/Users/ashwinvasan/opt/anaconda3/envs/PIC16B/lib/python3.7/site-packages/ipykernel/kernelbase.py\", line 662, in execute_request\n      reply_content = await reply_content\n    File \"/Users/ashwinvasan/opt/anaconda3/envs/PIC16B/lib/python3.7/site-packages/ipykernel/ipkernel.py\", line 360, in do_execute\n      res = shell.run_cell(code, store_history=store_history, silent=silent)\n    File \"/Users/ashwinvasan/opt/anaconda3/envs/PIC16B/lib/python3.7/site-packages/ipykernel/zmqshell.py\", line 532, in run_cell\n      return super().run_cell(*args, **kwargs)\n    File \"/Users/ashwinvasan/opt/anaconda3/envs/PIC16B/lib/python3.7/site-packages/IPython/core/interactiveshell.py\", line 2915, in run_cell\n      raw_cell, store_history, silent, shell_futures)\n    File \"/Users/ashwinvasan/opt/anaconda3/envs/PIC16B/lib/python3.7/site-packages/IPython/core/interactiveshell.py\", line 2960, in _run_cell\n      return runner(coro)\n    File \"/Users/ashwinvasan/opt/anaconda3/envs/PIC16B/lib/python3.7/site-packages/IPython/core/async_helpers.py\", line 78, in _pseudo_sync_runner\n      coro.send(None)\n    File \"/Users/ashwinvasan/opt/anaconda3/envs/PIC16B/lib/python3.7/site-packages/IPython/core/interactiveshell.py\", line 3186, in run_cell_async\n      interactivity=interactivity, compiler=compiler, result=result)\n    File \"/Users/ashwinvasan/opt/anaconda3/envs/PIC16B/lib/python3.7/site-packages/IPython/core/interactiveshell.py\", line 3377, in run_ast_nodes\n      if (await self.run_code(code, result,  async_=asy)):\n    File \"/Users/ashwinvasan/opt/anaconda3/envs/PIC16B/lib/python3.7/site-packages/IPython/core/interactiveshell.py\", line 3457, in run_code\n      exec(code_obj, self.user_global_ns, self.user_ns)\n    File \"/var/folders/zw/j8lwp6_56fn4hgrcqc6rcjwm0000gn/T/ipykernel_80213/3661932423.py\", line 1, in <module>\n      history = model.fit(train_vec, epochs = 20, validation_data = val_vec)\n    File \"/Users/ashwinvasan/opt/anaconda3/envs/PIC16B/lib/python3.7/site-packages/keras/utils/traceback_utils.py\", line 64, in error_handler\n      return fn(*args, **kwargs)\n    File \"/Users/ashwinvasan/opt/anaconda3/envs/PIC16B/lib/python3.7/site-packages/keras/engine/training.py\", line 1419, in fit\n      tmp_logs = self.train_function(iterator)\n    File \"/Users/ashwinvasan/opt/anaconda3/envs/PIC16B/lib/python3.7/site-packages/keras/engine/training.py\", line 1054, in train_function\n      return step_function(self, iterator)\n    File \"/Users/ashwinvasan/opt/anaconda3/envs/PIC16B/lib/python3.7/site-packages/keras/engine/training.py\", line 1043, in step_function\n      outputs = model.distribute_strategy.run(run_step, args=(data,))\n    File \"/Users/ashwinvasan/opt/anaconda3/envs/PIC16B/lib/python3.7/site-packages/keras/engine/training.py\", line 1033, in run_step\n      outputs = model.train_step(data)\n    File \"/Users/ashwinvasan/opt/anaconda3/envs/PIC16B/lib/python3.7/site-packages/keras/engine/training.py\", line 893, in train_step\n      loss = self.compute_loss(x, y, y_pred, sample_weight)\n    File \"/Users/ashwinvasan/opt/anaconda3/envs/PIC16B/lib/python3.7/site-packages/keras/engine/training.py\", line 952, in compute_loss\n      y, y_pred, sample_weight, regularization_losses=self.losses)\n    File \"/Users/ashwinvasan/opt/anaconda3/envs/PIC16B/lib/python3.7/site-packages/keras/engine/compile_utils.py\", line 201, in __call__\n      loss_value = loss_obj(y_t, y_p, sample_weight=sw)\n    File \"/Users/ashwinvasan/opt/anaconda3/envs/PIC16B/lib/python3.7/site-packages/keras/losses.py\", line 139, in __call__\n      losses = call_fn(y_true, y_pred)\n    File \"/Users/ashwinvasan/opt/anaconda3/envs/PIC16B/lib/python3.7/site-packages/keras/losses.py\", line 243, in call\n      return ag_fn(y_true, y_pred, **self._fn_kwargs)\n    File \"/Users/ashwinvasan/opt/anaconda3/envs/PIC16B/lib/python3.7/site-packages/keras/losses.py\", line 1865, in sparse_categorical_crossentropy\n      y_true, y_pred, from_logits=from_logits, axis=axis)\n    File \"/Users/ashwinvasan/opt/anaconda3/envs/PIC16B/lib/python3.7/site-packages/keras/backend.py\", line 5357, in sparse_categorical_crossentropy\n      labels=target, logits=output)\nNode: 'sparse_categorical_crossentropy/SparseSoftmaxCrossEntropyWithLogits/SparseSoftmaxCrossEntropyWithLogits'\nReceived a label value of 3 which is outside the valid range of [0, 3).  Label values: 3\n\t [[{{node sparse_categorical_crossentropy/SparseSoftmaxCrossEntropyWithLogits/SparseSoftmaxCrossEntropyWithLogits}}]] [Op:__inference_train_function_1491]",
     "output_type": "error",
     "traceback": [
      "\u001b[0;31m---------------------------------------------------------------------------\u001b[0m",
      "\u001b[0;31mInvalidArgumentError\u001b[0m                      Traceback (most recent call last)",
      "\u001b[0;32m/var/folders/zw/j8lwp6_56fn4hgrcqc6rcjwm0000gn/T/ipykernel_80213/3661932423.py\u001b[0m in \u001b[0;36m<module>\u001b[0;34m\u001b[0m\n\u001b[0;32m----> 1\u001b[0;31m \u001b[0mhistory\u001b[0m \u001b[0;34m=\u001b[0m \u001b[0mmodel\u001b[0m\u001b[0;34m.\u001b[0m\u001b[0mfit\u001b[0m\u001b[0;34m(\u001b[0m\u001b[0mtrain_vec\u001b[0m\u001b[0;34m,\u001b[0m \u001b[0mepochs\u001b[0m \u001b[0;34m=\u001b[0m \u001b[0;36m20\u001b[0m\u001b[0;34m,\u001b[0m \u001b[0mvalidation_data\u001b[0m \u001b[0;34m=\u001b[0m \u001b[0mval_vec\u001b[0m\u001b[0;34m)\u001b[0m\u001b[0;34m\u001b[0m\u001b[0;34m\u001b[0m\u001b[0m\n\u001b[0m",
      "\u001b[0;32m~/opt/anaconda3/envs/PIC16B/lib/python3.7/site-packages/keras/utils/traceback_utils.py\u001b[0m in \u001b[0;36merror_handler\u001b[0;34m(*args, **kwargs)\u001b[0m\n\u001b[1;32m     67\u001b[0m       \u001b[0;31m# To get the full stack trace, call:\u001b[0m\u001b[0;34m\u001b[0m\u001b[0;34m\u001b[0m\u001b[0;34m\u001b[0m\u001b[0m\n\u001b[1;32m     68\u001b[0m       \u001b[0;31m# `tf.debugging.disable_traceback_filtering()`\u001b[0m\u001b[0;34m\u001b[0m\u001b[0;34m\u001b[0m\u001b[0;34m\u001b[0m\u001b[0m\n\u001b[0;32m---> 69\u001b[0;31m       \u001b[0;32mraise\u001b[0m \u001b[0me\u001b[0m\u001b[0;34m.\u001b[0m\u001b[0mwith_traceback\u001b[0m\u001b[0;34m(\u001b[0m\u001b[0mfiltered_tb\u001b[0m\u001b[0;34m)\u001b[0m \u001b[0;32mfrom\u001b[0m \u001b[0;32mNone\u001b[0m\u001b[0;34m\u001b[0m\u001b[0;34m\u001b[0m\u001b[0m\n\u001b[0m\u001b[1;32m     70\u001b[0m     \u001b[0;32mfinally\u001b[0m\u001b[0;34m:\u001b[0m\u001b[0;34m\u001b[0m\u001b[0;34m\u001b[0m\u001b[0m\n\u001b[1;32m     71\u001b[0m       \u001b[0;32mdel\u001b[0m \u001b[0mfiltered_tb\u001b[0m\u001b[0;34m\u001b[0m\u001b[0;34m\u001b[0m\u001b[0m\n",
      "\u001b[0;32m~/opt/anaconda3/envs/PIC16B/lib/python3.7/site-packages/tensorflow/python/eager/execute.py\u001b[0m in \u001b[0;36mquick_execute\u001b[0;34m(op_name, num_outputs, inputs, attrs, ctx, name)\u001b[0m\n\u001b[1;32m     53\u001b[0m     \u001b[0mctx\u001b[0m\u001b[0;34m.\u001b[0m\u001b[0mensure_initialized\u001b[0m\u001b[0;34m(\u001b[0m\u001b[0;34m)\u001b[0m\u001b[0;34m\u001b[0m\u001b[0;34m\u001b[0m\u001b[0m\n\u001b[1;32m     54\u001b[0m     tensors = pywrap_tfe.TFE_Py_Execute(ctx._handle, device_name, op_name,\n\u001b[0;32m---> 55\u001b[0;31m                                         inputs, attrs, num_outputs)\n\u001b[0m\u001b[1;32m     56\u001b[0m   \u001b[0;32mexcept\u001b[0m \u001b[0mcore\u001b[0m\u001b[0;34m.\u001b[0m\u001b[0m_NotOkStatusException\u001b[0m \u001b[0;32mas\u001b[0m \u001b[0me\u001b[0m\u001b[0;34m:\u001b[0m\u001b[0;34m\u001b[0m\u001b[0;34m\u001b[0m\u001b[0m\n\u001b[1;32m     57\u001b[0m     \u001b[0;32mif\u001b[0m \u001b[0mname\u001b[0m \u001b[0;32mis\u001b[0m \u001b[0;32mnot\u001b[0m \u001b[0;32mNone\u001b[0m\u001b[0;34m:\u001b[0m\u001b[0;34m\u001b[0m\u001b[0;34m\u001b[0m\u001b[0m\n",
      "\u001b[0;31mInvalidArgumentError\u001b[0m: Graph execution error:\n\nDetected at node 'sparse_categorical_crossentropy/SparseSoftmaxCrossEntropyWithLogits/SparseSoftmaxCrossEntropyWithLogits' defined at (most recent call last):\n    File \"/Users/ashwinvasan/opt/anaconda3/envs/PIC16B/lib/python3.7/runpy.py\", line 193, in _run_module_as_main\n      \"__main__\", mod_spec)\n    File \"/Users/ashwinvasan/opt/anaconda3/envs/PIC16B/lib/python3.7/runpy.py\", line 85, in _run_code\n      exec(code, run_globals)\n    File \"/Users/ashwinvasan/opt/anaconda3/envs/PIC16B/lib/python3.7/site-packages/ipykernel_launcher.py\", line 16, in <module>\n      app.launch_new_instance()\n    File \"/Users/ashwinvasan/opt/anaconda3/envs/PIC16B/lib/python3.7/site-packages/traitlets/config/application.py\", line 846, in launch_instance\n      app.start()\n    File \"/Users/ashwinvasan/opt/anaconda3/envs/PIC16B/lib/python3.7/site-packages/ipykernel/kernelapp.py\", line 677, in start\n      self.io_loop.start()\n    File \"/Users/ashwinvasan/opt/anaconda3/envs/PIC16B/lib/python3.7/site-packages/tornado/platform/asyncio.py\", line 199, in start\n      self.asyncio_loop.run_forever()\n    File \"/Users/ashwinvasan/opt/anaconda3/envs/PIC16B/lib/python3.7/asyncio/base_events.py\", line 541, in run_forever\n      self._run_once()\n    File \"/Users/ashwinvasan/opt/anaconda3/envs/PIC16B/lib/python3.7/asyncio/base_events.py\", line 1786, in _run_once\n      handle._run()\n    File \"/Users/ashwinvasan/opt/anaconda3/envs/PIC16B/lib/python3.7/asyncio/events.py\", line 88, in _run\n      self._context.run(self._callback, *self._args)\n    File \"/Users/ashwinvasan/opt/anaconda3/envs/PIC16B/lib/python3.7/site-packages/ipykernel/kernelbase.py\", line 471, in dispatch_queue\n      await self.process_one()\n    File \"/Users/ashwinvasan/opt/anaconda3/envs/PIC16B/lib/python3.7/site-packages/ipykernel/kernelbase.py\", line 460, in process_one\n      await dispatch(*args)\n    File \"/Users/ashwinvasan/opt/anaconda3/envs/PIC16B/lib/python3.7/site-packages/ipykernel/kernelbase.py\", line 367, in dispatch_shell\n      await result\n    File \"/Users/ashwinvasan/opt/anaconda3/envs/PIC16B/lib/python3.7/site-packages/ipykernel/kernelbase.py\", line 662, in execute_request\n      reply_content = await reply_content\n    File \"/Users/ashwinvasan/opt/anaconda3/envs/PIC16B/lib/python3.7/site-packages/ipykernel/ipkernel.py\", line 360, in do_execute\n      res = shell.run_cell(code, store_history=store_history, silent=silent)\n    File \"/Users/ashwinvasan/opt/anaconda3/envs/PIC16B/lib/python3.7/site-packages/ipykernel/zmqshell.py\", line 532, in run_cell\n      return super().run_cell(*args, **kwargs)\n    File \"/Users/ashwinvasan/opt/anaconda3/envs/PIC16B/lib/python3.7/site-packages/IPython/core/interactiveshell.py\", line 2915, in run_cell\n      raw_cell, store_history, silent, shell_futures)\n    File \"/Users/ashwinvasan/opt/anaconda3/envs/PIC16B/lib/python3.7/site-packages/IPython/core/interactiveshell.py\", line 2960, in _run_cell\n      return runner(coro)\n    File \"/Users/ashwinvasan/opt/anaconda3/envs/PIC16B/lib/python3.7/site-packages/IPython/core/async_helpers.py\", line 78, in _pseudo_sync_runner\n      coro.send(None)\n    File \"/Users/ashwinvasan/opt/anaconda3/envs/PIC16B/lib/python3.7/site-packages/IPython/core/interactiveshell.py\", line 3186, in run_cell_async\n      interactivity=interactivity, compiler=compiler, result=result)\n    File \"/Users/ashwinvasan/opt/anaconda3/envs/PIC16B/lib/python3.7/site-packages/IPython/core/interactiveshell.py\", line 3377, in run_ast_nodes\n      if (await self.run_code(code, result,  async_=asy)):\n    File \"/Users/ashwinvasan/opt/anaconda3/envs/PIC16B/lib/python3.7/site-packages/IPython/core/interactiveshell.py\", line 3457, in run_code\n      exec(code_obj, self.user_global_ns, self.user_ns)\n    File \"/var/folders/zw/j8lwp6_56fn4hgrcqc6rcjwm0000gn/T/ipykernel_80213/3661932423.py\", line 1, in <module>\n      history = model.fit(train_vec, epochs = 20, validation_data = val_vec)\n    File \"/Users/ashwinvasan/opt/anaconda3/envs/PIC16B/lib/python3.7/site-packages/keras/utils/traceback_utils.py\", line 64, in error_handler\n      return fn(*args, **kwargs)\n    File \"/Users/ashwinvasan/opt/anaconda3/envs/PIC16B/lib/python3.7/site-packages/keras/engine/training.py\", line 1419, in fit\n      tmp_logs = self.train_function(iterator)\n    File \"/Users/ashwinvasan/opt/anaconda3/envs/PIC16B/lib/python3.7/site-packages/keras/engine/training.py\", line 1054, in train_function\n      return step_function(self, iterator)\n    File \"/Users/ashwinvasan/opt/anaconda3/envs/PIC16B/lib/python3.7/site-packages/keras/engine/training.py\", line 1043, in step_function\n      outputs = model.distribute_strategy.run(run_step, args=(data,))\n    File \"/Users/ashwinvasan/opt/anaconda3/envs/PIC16B/lib/python3.7/site-packages/keras/engine/training.py\", line 1033, in run_step\n      outputs = model.train_step(data)\n    File \"/Users/ashwinvasan/opt/anaconda3/envs/PIC16B/lib/python3.7/site-packages/keras/engine/training.py\", line 893, in train_step\n      loss = self.compute_loss(x, y, y_pred, sample_weight)\n    File \"/Users/ashwinvasan/opt/anaconda3/envs/PIC16B/lib/python3.7/site-packages/keras/engine/training.py\", line 952, in compute_loss\n      y, y_pred, sample_weight, regularization_losses=self.losses)\n    File \"/Users/ashwinvasan/opt/anaconda3/envs/PIC16B/lib/python3.7/site-packages/keras/engine/compile_utils.py\", line 201, in __call__\n      loss_value = loss_obj(y_t, y_p, sample_weight=sw)\n    File \"/Users/ashwinvasan/opt/anaconda3/envs/PIC16B/lib/python3.7/site-packages/keras/losses.py\", line 139, in __call__\n      losses = call_fn(y_true, y_pred)\n    File \"/Users/ashwinvasan/opt/anaconda3/envs/PIC16B/lib/python3.7/site-packages/keras/losses.py\", line 243, in call\n      return ag_fn(y_true, y_pred, **self._fn_kwargs)\n    File \"/Users/ashwinvasan/opt/anaconda3/envs/PIC16B/lib/python3.7/site-packages/keras/losses.py\", line 1865, in sparse_categorical_crossentropy\n      y_true, y_pred, from_logits=from_logits, axis=axis)\n    File \"/Users/ashwinvasan/opt/anaconda3/envs/PIC16B/lib/python3.7/site-packages/keras/backend.py\", line 5357, in sparse_categorical_crossentropy\n      labels=target, logits=output)\nNode: 'sparse_categorical_crossentropy/SparseSoftmaxCrossEntropyWithLogits/SparseSoftmaxCrossEntropyWithLogits'\nReceived a label value of 3 which is outside the valid range of [0, 3).  Label values: 3\n\t [[{{node sparse_categorical_crossentropy/SparseSoftmaxCrossEntropyWithLogits/SparseSoftmaxCrossEntropyWithLogits}}]] [Op:__inference_train_function_1491]"
     ]
    }
   ],
   "source": [
    "history = model.fit(train_vec, epochs = 20, validation_data = val_vec)"
   ]
  },
  {
   "cell_type": "code",
   "execution_count": null,
   "id": "bd5af371",
   "metadata": {},
   "outputs": [],
   "source": []
  }
 ],
 "metadata": {
  "kernelspec": {
   "display_name": "Python [conda env:PIC16B] *",
   "language": "python",
   "name": "conda-env-PIC16B-py"
  },
  "language_info": {
   "codemirror_mode": {
    "name": "ipython",
    "version": 3
   },
   "file_extension": ".py",
   "mimetype": "text/x-python",
   "name": "python",
   "nbconvert_exporter": "python",
   "pygments_lexer": "ipython3",
   "version": "3.7.13"
  }
 },
 "nbformat": 4,
 "nbformat_minor": 5
}
